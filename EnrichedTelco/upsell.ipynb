{
 "cells": [
  {
   "cell_type": "markdown",
   "source": [
    "# CRM Up-sell Prediction Project\n",
    "\n",
    "For the second use case, up-sell / cross-sell, we will be using the same dataset by IBM, made available via Kaggle, already prepared and analysed in the `enriched_churn.ipynb` file. The up-sell / cross-sell use case may be integrated into the CRM functionality, as the ML functionality built in this project can be used to predict customers' potential to buy other adjacent products from the Telco firm.\n",
    "\n",
    "The product to be up-sold is `device_protection_plan` — this is our target variable. In addition, we will remove `customer_status` — the target variable of our previous use-case, since the two are mutually exclusive (a customer that has churned cannot buy a new product).\n",
    "\n",
    "\n",
    "## Project Description — Introduction:\n",
    "\n",
    "### The Dataset:\n",
    "\n",
    "The dataset is originally linked to IBM's Cognos Analytics 11.1.3+ Version Sample, made available via Kaggle. All data is property of IBM and/or its original author.\n",
    "\n",
    "More information on the dataset can be found [here](https://www.kaggle.com/datasets/ylchang/telco-customer-churn-1113?select=Telco_customer_churn.xlsx).\n",
    "\n",
    "The dataset being used has already been prepared in the first use case and 'dumped' into the `clean_data.csv` file.\n",
    "\n",
    "### Technical Task:\n",
    "\n",
    "We want to predict whether the product `device_protection_plan` can be up-sold / cross-sold to clients a USA Telco company based on client personal data concerning tariffs and contracts. If a custer is likely to accept an up-sell / cross-sell offer, the relationship manager should offer them that product.\n",
    "\n",
    "\n",
    "### Data Description:\n",
    "\n",
    "The dataset has been consolidated into a single file — `clean_data.csv`. The variable descriptions are given in the `enriched_churn.ipynb` file, where the data was pre-processed.\n",
    "\n",
    "\n",
    "### Project Goal:\n",
    "\n",
    "Based on the aforementioned data, we want to predict whether a customer will accept an up-sell / cross-sell product offer, which is a **binary classification** task.\n",
    "\n",
    "\n",
    "### Specific Objectives, Metrics, and Implementation Plan:\n",
    "\n",
    "**Goals:** since we already understand our data, we can simply pre-prepare our datasets, then build and test ML models that would enable us to predict the up-sell potential of the `device_protection_plan` product.\n",
    "\n",
    "**Metrics:** we will be using the same F1 metric as in our previous use case, since our data is imbalanced (most people have not bought the product, which we know from the previous EDA).\n",
    "\n",
    "**ML Plan:**\n",
    "1. Analyse data for imbalance (done — significant imbalance detected in EDA).\n",
    "2. Choose the best metric based on class imbalance (done — F1 metric selected).\n",
    "3. Select models: we are dealing with a classification problem, so we will test several models. In this use case, our selection will not be as broad as before and we will be using:\n",
    "    - Logistic regression\n",
    "    - Random forest\n",
    "    - Catboost classifier\n",
    "4. Prepare the datasets (train, test, and validation) for both non-boosting and boosting models, including scaling and OHE.\n",
    "5. Train and validate our models for preliminary results.\n",
    "6. Pre-select best models.\n",
    "6. Tune hyperparameters using cross-validation, validate best parameters on the validation dataset.\n",
    "7. Select best model.\n",
    "8. Apply to train dataset and analyse performance — compare it with a dummy model.\n",
    "9. Draw conclusions.\n",
    "\n",
    "<br>\n",
    "\n",
    "## Dataset Preparation for Boosting and Non-boosting Models"
   ],
   "metadata": {
    "collapsed": false
   }
  },
  {
   "cell_type": "code",
   "execution_count": 1,
   "outputs": [],
   "source": [
    "# Importing all libraries necessary for this use-case:\n",
    "\n",
    "import numpy as np\n",
    "import pandas as pd\n",
    "\n",
    "from sklearn.ensemble import RandomForestClassifier\n",
    "from sklearn.linear_model import LogisticRegression\n",
    "from sklearn.dummy import DummyClassifier\n",
    "\n",
    "from sklearn.model_selection import train_test_split\n",
    "from sklearn.preprocessing import StandardScaler\n",
    "from sklearn.utils import shuffle\n",
    "\n",
    "from sklearn.model_selection import GridSearchCV\n",
    "from sklearn.model_selection import cross_val_score\n",
    "from sklearn.model_selection import StratifiedKFold\n",
    "\n",
    "from sklearn.metrics import f1_score\n",
    "\n",
    "from catboost import CatBoostClassifier\n",
    "\n",
    "import time"
   ],
   "metadata": {
    "collapsed": false
   }
  },
  {
   "cell_type": "code",
   "execution_count": 2,
   "metadata": {
    "collapsed": true
   },
   "outputs": [
    {
     "name": "stdout",
     "output_type": "stream",
     "text": [
      "<class 'pandas.core.frame.DataFrame'>\n",
      "Int64Index: 6536 entries, 0 to 6535\n",
      "Data columns (total 34 columns):\n",
      " #   Column                             Non-Null Count  Dtype  \n",
      "---  ------                             --------------  -----  \n",
      " 0   satisfaction_score                 6536 non-null   int64  \n",
      " 1   customer_status                    6536 non-null   int64  \n",
      " 2   cltv                               6536 non-null   int64  \n",
      " 3   number_of_referrals                6536 non-null   int64  \n",
      " 4   tenure_in_months                   6536 non-null   int64  \n",
      " 5   offer                              6536 non-null   object \n",
      " 6   phone_service                      6536 non-null   bool   \n",
      " 7   avg_monthly_long_distance_charges  6536 non-null   float64\n",
      " 8   multiple_lines                     6536 non-null   bool   \n",
      " 9   internet_type                      6536 non-null   object \n",
      " 10  avg_monthly_gb_download            6536 non-null   int64  \n",
      " 11  online_security                    6536 non-null   bool   \n",
      " 12  online_backup                      6536 non-null   bool   \n",
      " 13  device_protection_plan             6536 non-null   bool   \n",
      " 14  premium_tech_support               6536 non-null   bool   \n",
      " 15  streaming_tv                       6536 non-null   bool   \n",
      " 16  streaming_movies                   6536 non-null   bool   \n",
      " 17  streaming_music                    6536 non-null   bool   \n",
      " 18  unlimited_data                     6536 non-null   bool   \n",
      " 19  contract                           6536 non-null   object \n",
      " 20  paperless_billing                  6536 non-null   bool   \n",
      " 21  payment_method                     6536 non-null   object \n",
      " 22  monthly_charge                     6536 non-null   float64\n",
      " 23  total_charges                      6536 non-null   float64\n",
      " 24  total_refunds                      6536 non-null   float64\n",
      " 25  total_extra_data_charges           6536 non-null   int64  \n",
      " 26  total_long_distance_charges        6536 non-null   float64\n",
      " 27  population                         6536 non-null   int64  \n",
      " 28  latitude                           6536 non-null   float64\n",
      " 29  longitude                          6536 non-null   float64\n",
      " 30  gender                             6536 non-null   object \n",
      " 31  age                                6536 non-null   int64  \n",
      " 32  married                            6536 non-null   bool   \n",
      " 33  number_of_dependents               6536 non-null   int64  \n",
      "dtypes: bool(12), float64(7), int64(10), object(5)\n",
      "memory usage: 1.2+ MB\n"
     ]
    },
    {
     "data": {
      "text/plain": "   satisfaction_score  customer_status  cltv  number_of_referrals  \\\n0                   3                1  5433                    0   \n1                   3                1  5302                    1   \n2                   2                1  3179                    0   \n3                   2                1  5337                    1   \n4                   2                1  2793                    1   \n\n   tenure_in_months    offer  phone_service  \\\n0                 1     None          False   \n1                 8  Offer E           True   \n2                18  Offer D           True   \n3                25  Offer C           True   \n4                37  Offer C           True   \n\n   avg_monthly_long_distance_charges  multiple_lines internet_type  ...  \\\n0                               0.00           False           DSL  ...   \n1                              48.85            True   Fiber Optic  ...   \n2                              11.33            True   Fiber Optic  ...   \n3                              19.76           False   Fiber Optic  ...   \n4                               6.33            True   Fiber Optic  ...   \n\n   total_refunds  total_extra_data_charges  total_long_distance_charges  \\\n0           0.00                        20                         0.00   \n1           0.00                         0                       390.80   \n2          45.61                         0                       203.94   \n3          13.43                         0                       494.00   \n4           0.00                         0                       234.21   \n\n   population   latitude   longitude  gender  age  married  \\\n0       68701  34.023810 -118.156582    Male   78    False   \n1       55668  34.044271 -118.185237  Female   74     True   \n2       47534  34.108833 -118.229715    Male   71    False   \n3       27778  33.936291 -118.332639  Female   78     True   \n4       26265  33.972119 -118.020188  Female   80     True   \n\n  number_of_dependents  \n0                    0  \n1                    1  \n2                    3  \n3                    1  \n4                    1  \n\n[5 rows x 34 columns]",
      "text/html": "<div>\n<style scoped>\n    .dataframe tbody tr th:only-of-type {\n        vertical-align: middle;\n    }\n\n    .dataframe tbody tr th {\n        vertical-align: top;\n    }\n\n    .dataframe thead th {\n        text-align: right;\n    }\n</style>\n<table border=\"1\" class=\"dataframe\">\n  <thead>\n    <tr style=\"text-align: right;\">\n      <th></th>\n      <th>satisfaction_score</th>\n      <th>customer_status</th>\n      <th>cltv</th>\n      <th>number_of_referrals</th>\n      <th>tenure_in_months</th>\n      <th>offer</th>\n      <th>phone_service</th>\n      <th>avg_monthly_long_distance_charges</th>\n      <th>multiple_lines</th>\n      <th>internet_type</th>\n      <th>...</th>\n      <th>total_refunds</th>\n      <th>total_extra_data_charges</th>\n      <th>total_long_distance_charges</th>\n      <th>population</th>\n      <th>latitude</th>\n      <th>longitude</th>\n      <th>gender</th>\n      <th>age</th>\n      <th>married</th>\n      <th>number_of_dependents</th>\n    </tr>\n  </thead>\n  <tbody>\n    <tr>\n      <th>0</th>\n      <td>3</td>\n      <td>1</td>\n      <td>5433</td>\n      <td>0</td>\n      <td>1</td>\n      <td>None</td>\n      <td>False</td>\n      <td>0.00</td>\n      <td>False</td>\n      <td>DSL</td>\n      <td>...</td>\n      <td>0.00</td>\n      <td>20</td>\n      <td>0.00</td>\n      <td>68701</td>\n      <td>34.023810</td>\n      <td>-118.156582</td>\n      <td>Male</td>\n      <td>78</td>\n      <td>False</td>\n      <td>0</td>\n    </tr>\n    <tr>\n      <th>1</th>\n      <td>3</td>\n      <td>1</td>\n      <td>5302</td>\n      <td>1</td>\n      <td>8</td>\n      <td>Offer E</td>\n      <td>True</td>\n      <td>48.85</td>\n      <td>True</td>\n      <td>Fiber Optic</td>\n      <td>...</td>\n      <td>0.00</td>\n      <td>0</td>\n      <td>390.80</td>\n      <td>55668</td>\n      <td>34.044271</td>\n      <td>-118.185237</td>\n      <td>Female</td>\n      <td>74</td>\n      <td>True</td>\n      <td>1</td>\n    </tr>\n    <tr>\n      <th>2</th>\n      <td>2</td>\n      <td>1</td>\n      <td>3179</td>\n      <td>0</td>\n      <td>18</td>\n      <td>Offer D</td>\n      <td>True</td>\n      <td>11.33</td>\n      <td>True</td>\n      <td>Fiber Optic</td>\n      <td>...</td>\n      <td>45.61</td>\n      <td>0</td>\n      <td>203.94</td>\n      <td>47534</td>\n      <td>34.108833</td>\n      <td>-118.229715</td>\n      <td>Male</td>\n      <td>71</td>\n      <td>False</td>\n      <td>3</td>\n    </tr>\n    <tr>\n      <th>3</th>\n      <td>2</td>\n      <td>1</td>\n      <td>5337</td>\n      <td>1</td>\n      <td>25</td>\n      <td>Offer C</td>\n      <td>True</td>\n      <td>19.76</td>\n      <td>False</td>\n      <td>Fiber Optic</td>\n      <td>...</td>\n      <td>13.43</td>\n      <td>0</td>\n      <td>494.00</td>\n      <td>27778</td>\n      <td>33.936291</td>\n      <td>-118.332639</td>\n      <td>Female</td>\n      <td>78</td>\n      <td>True</td>\n      <td>1</td>\n    </tr>\n    <tr>\n      <th>4</th>\n      <td>2</td>\n      <td>1</td>\n      <td>2793</td>\n      <td>1</td>\n      <td>37</td>\n      <td>Offer C</td>\n      <td>True</td>\n      <td>6.33</td>\n      <td>True</td>\n      <td>Fiber Optic</td>\n      <td>...</td>\n      <td>0.00</td>\n      <td>0</td>\n      <td>234.21</td>\n      <td>26265</td>\n      <td>33.972119</td>\n      <td>-118.020188</td>\n      <td>Female</td>\n      <td>80</td>\n      <td>True</td>\n      <td>1</td>\n    </tr>\n  </tbody>\n</table>\n<p>5 rows × 34 columns</p>\n</div>"
     },
     "metadata": {},
     "output_type": "display_data"
    },
    {
     "data": {
      "text/plain": "None"
     },
     "metadata": {},
     "output_type": "display_data"
    }
   ],
   "source": [
    "cleaned_data = pd.read_csv('clean_data.csv', index_col='Unnamed: 0')\n",
    "display(cleaned_data.head(), cleaned_data.info())"
   ]
  },
  {
   "cell_type": "markdown",
   "source": [
    "We must now remove the `customer_status` column, which is extraneous in this use-case."
   ],
   "metadata": {
    "collapsed": false
   }
  },
  {
   "cell_type": "code",
   "execution_count": 3,
   "outputs": [
    {
     "data": {
      "text/plain": "Index(['satisfaction_score', 'cltv', 'number_of_referrals', 'tenure_in_months',\n       'offer', 'phone_service', 'avg_monthly_long_distance_charges',\n       'multiple_lines', 'internet_type', 'avg_monthly_gb_download',\n       'online_security', 'online_backup', 'device_protection_plan',\n       'premium_tech_support', 'streaming_tv', 'streaming_movies',\n       'streaming_music', 'unlimited_data', 'contract', 'paperless_billing',\n       'payment_method', 'monthly_charge', 'total_charges', 'total_refunds',\n       'total_extra_data_charges', 'total_long_distance_charges', 'population',\n       'latitude', 'longitude', 'gender', 'age', 'married',\n       'number_of_dependents'],\n      dtype='object')"
     },
     "execution_count": 3,
     "metadata": {},
     "output_type": "execute_result"
    }
   ],
   "source": [
    "cleaned_data = cleaned_data.drop('customer_status', axis=1)\n",
    "cleaned_data.columns"
   ],
   "metadata": {
    "collapsed": false
   }
  },
  {
   "cell_type": "markdown",
   "source": [
    "Now we can pre-process our data along the same lines as in our previous use-case.\n",
    "\n",
    "### Data Prepation for Non-boosting Models:"
   ],
   "metadata": {
    "collapsed": false
   }
  },
  {
   "cell_type": "code",
   "execution_count": 4,
   "outputs": [
    {
     "data": {
      "text/plain": "(4575, 40)"
     },
     "metadata": {},
     "output_type": "display_data"
    },
    {
     "data": {
      "text/plain": "(980, 40)"
     },
     "metadata": {},
     "output_type": "display_data"
    },
    {
     "data": {
      "text/plain": "(981, 40)"
     },
     "metadata": {},
     "output_type": "display_data"
    }
   ],
   "source": [
    "# Applying OHE, taking care to avoid extraneous dummy-variables:\n",
    "df_nb = pd.get_dummies(cleaned_data.drop('device_protection_plan', axis=1), drop_first=True)\n",
    "\n",
    "# nb = no boosting!\n",
    "features_nb = df_nb\n",
    "target_nb = cleaned_data['device_protection_plan']\n",
    "\n",
    "\n",
    "# Function for scaling features:\n",
    "def scaling(numeric, features_train, features_valid, features_test):\n",
    "    scaler = StandardScaler()\n",
    "    # Note: we are careful to teach the `Scaler` only on the training dataset:\n",
    "    scaler.fit(features_train[numeric])\n",
    "    features_train[numeric] = scaler.transform(features_train[numeric])\n",
    "    features_valid[numeric] = scaler.transform(features_valid[numeric])\n",
    "    features_test[numeric] = scaler.transform(features_test[numeric])\n",
    "    return features_train, features_valid, features_test\n",
    "\n",
    "\n",
    "# Function for dataset preparation:\n",
    "def dataset_prep(features, target, numeric):\n",
    "    features_train, features_test_and_valid, target_train, target_test_and_valid = train_test_split(features, target,\n",
    "                                                                                                    test_size=0.3,\n",
    "                                                                                                    random_state=22)\n",
    "    features_valid, features_test, target_valid, target_test = train_test_split(features_test_and_valid,\n",
    "                                                                                target_test_and_valid, test_size=0.5,\n",
    "                                                                                random_state=22)\n",
    "    # Data randomisation:\n",
    "    features_train, target_train = shuffle(features_train, target_train, random_state=22)\n",
    "    features_valid, target_valid = shuffle(features_valid, target_valid, random_state=22)\n",
    "    features_test, target_test = shuffle(features_test, target_test, random_state=22)\n",
    "    # Note: we could have also added shuffle=True to train_test_split, since with random_state the results would have been equal\n",
    "    # Scaling numeric features:\n",
    "    features_train, features_valid, features_test = scaling(numeric, features_train,\n",
    "                                                            features_valid, features_test)\n",
    "    return features_train, features_valid, features_test, target_train, target_valid, target_test\n",
    "\n",
    "\n",
    "numeric = ['satisfaction_score', 'cltv', 'number_of_referrals', 'tenure_in_months',\n",
    "           'avg_monthly_long_distance_charges', 'avg_monthly_gb_download', 'monthly_charge',\n",
    "           'total_charges', 'total_refunds', 'total_extra_data_charges', 'total_long_distance_charges',\n",
    "           'population', 'latitude', 'longitude', 'age', 'number_of_dependents']\n",
    "\n",
    "features_train_nb, features_valid_nb, features_test_nb, target_train_nb, target_valid_nb, target_test_nb = dataset_prep(\n",
    "    features_nb, target_nb, numeric)\n",
    "\n",
    "display(features_train_nb.shape, features_valid_nb.shape, features_test_nb.shape)"
   ],
   "metadata": {
    "collapsed": false
   }
  },
  {
   "cell_type": "markdown",
   "source": [
    "### Data Preparation for Boosting models\n",
    "\n",
    "For boosting-models, we can use categorical features without encoding:\n",
    "\n",
    "- For Catboost: we need to specify categorical features in the `cat_features` parameter"
   ],
   "metadata": {
    "collapsed": false
   }
  },
  {
   "cell_type": "code",
   "execution_count": 5,
   "outputs": [
    {
     "data": {
      "text/plain": "(4575, 32)"
     },
     "metadata": {},
     "output_type": "display_data"
    },
    {
     "data": {
      "text/plain": "(980, 32)"
     },
     "metadata": {},
     "output_type": "display_data"
    },
    {
     "data": {
      "text/plain": "(981, 32)"
     },
     "metadata": {},
     "output_type": "display_data"
    }
   ],
   "source": [
    "cat_features  = ['offer', 'internet_type', 'contract', 'payment_method', 'gender']\n",
    "\n",
    "df_cat = cleaned_data.drop('device_protection_plan', axis=1)\n",
    "\n",
    "features_cat = df_cat\n",
    "target_cat = cleaned_data['device_protection_plan']\n",
    "\n",
    "features_train_cat, features_valid_cat, features_test_cat, target_train_cat, target_valid_cat, target_test_cat =\\\n",
    "    dataset_prep(features_cat, target_cat, numeric)\n",
    "\n",
    "display(features_train_cat.shape, features_valid_cat.shape, features_test_cat.shape)"
   ],
   "metadata": {
    "collapsed": false
   }
  },
  {
   "cell_type": "markdown",
   "source": [
    "Now that we have our datasets prepared, we can move on to training baseline models.\n",
    "\n",
    "## Baseline Model Training\n",
    "\n",
    "Let us first initiate a dataframe with our results:"
   ],
   "metadata": {
    "collapsed": false
   }
  },
  {
   "cell_type": "code",
   "execution_count": 6,
   "outputs": [
    {
     "data": {
      "text/plain": "Empty DataFrame\nColumns: []\nIndex: [f1_score, learning_time, prediction_time]",
      "text/html": "<div>\n<style scoped>\n    .dataframe tbody tr th:only-of-type {\n        vertical-align: middle;\n    }\n\n    .dataframe tbody tr th {\n        vertical-align: top;\n    }\n\n    .dataframe thead th {\n        text-align: right;\n    }\n</style>\n<table border=\"1\" class=\"dataframe\">\n  <thead>\n    <tr style=\"text-align: right;\">\n      <th></th>\n    </tr>\n  </thead>\n  <tbody>\n    <tr>\n      <th>f1_score</th>\n    </tr>\n    <tr>\n      <th>learning_time</th>\n    </tr>\n    <tr>\n      <th>prediction_time</th>\n    </tr>\n  </tbody>\n</table>\n</div>"
     },
     "execution_count": 6,
     "metadata": {},
     "output_type": "execute_result"
    }
   ],
   "source": [
    "df_results = pd.DataFrame(index = ['f1_score', 'learning_time', 'prediction_time'])\n",
    "df_results"
   ],
   "metadata": {
    "collapsed": false
   }
  },
  {
   "cell_type": "markdown",
   "source": [
    "For our CatBoost model, we will also need to calculate our class-imbalance ratio:"
   ],
   "metadata": {
    "collapsed": false
   }
  },
  {
   "cell_type": "code",
   "execution_count": 7,
   "outputs": [
    {
     "data": {
      "text/plain": "2.0"
     },
     "metadata": {},
     "output_type": "display_data"
    }
   ],
   "source": [
    "count = pd.Series(target_cat.value_counts())\n",
    "\n",
    "scale_pos_weight = count[0] / count[1]\n",
    "scale_pos_weight_rounded = scale_pos_weight.round()\n",
    "display(scale_pos_weight_rounded)"
   ],
   "metadata": {
    "collapsed": false
   }
  },
  {
   "cell_type": "markdown",
   "source": [
    "We can now run our baseline models and compare their speed and F1 scores. Notably, we will be adjusting all our models for class imbalance:"
   ],
   "metadata": {
    "collapsed": false
   }
  },
  {
   "cell_type": "code",
   "execution_count": 8,
   "outputs": [
    {
     "name": "stderr",
     "output_type": "stream",
     "text": [
      "/Users/ana/opt/miniconda3/lib/python3.10/site-packages/sklearn/linear_model/_logistic.py:458: ConvergenceWarning: lbfgs failed to converge (status=1):\n",
      "STOP: TOTAL NO. of ITERATIONS REACHED LIMIT.\n",
      "\n",
      "Increase the number of iterations (max_iter) or scale the data as shown in:\n",
      "    https://scikit-learn.org/stable/modules/preprocessing.html\n",
      "Please also refer to the documentation for alternative solver options:\n",
      "    https://scikit-learn.org/stable/modules/linear_model.html#logistic-regression\n",
      "  n_iter_i = _check_optimize_result(\n"
     ]
    },
    {
     "data": {
      "text/plain": "                 LogisticRegression  RandomForestClassifier  \\\nf1_score                    0.93154                 0.66252   \nlearning_time               0.09249                 1.14197   \nprediction_time             0.00481                 0.02743   \n\n                 CatboostClassifier  \nf1_score                    0.53622  \nlearning_time               6.75689  \nprediction_time             0.01262  ",
      "text/html": "<div>\n<style scoped>\n    .dataframe tbody tr th:only-of-type {\n        vertical-align: middle;\n    }\n\n    .dataframe tbody tr th {\n        vertical-align: top;\n    }\n\n    .dataframe thead th {\n        text-align: right;\n    }\n</style>\n<table border=\"1\" class=\"dataframe\">\n  <thead>\n    <tr style=\"text-align: right;\">\n      <th></th>\n      <th>LogisticRegression</th>\n      <th>RandomForestClassifier</th>\n      <th>CatboostClassifier</th>\n    </tr>\n  </thead>\n  <tbody>\n    <tr>\n      <th>f1_score</th>\n      <td>0.93154</td>\n      <td>0.66252</td>\n      <td>0.53622</td>\n    </tr>\n    <tr>\n      <th>learning_time</th>\n      <td>0.09249</td>\n      <td>1.14197</td>\n      <td>6.75689</td>\n    </tr>\n    <tr>\n      <th>prediction_time</th>\n      <td>0.00481</td>\n      <td>0.02743</td>\n      <td>0.01262</td>\n    </tr>\n  </tbody>\n</table>\n</div>"
     },
     "metadata": {},
     "output_type": "display_data"
    }
   ],
   "source": [
    "pd.set_option('display.float_format', '{:.5f}'.format)\n",
    "\n",
    "def modelling(model, features_train, target_train, features_valid, target_valid):\n",
    "    start_time = time.time()\n",
    "    model.fit(features_train, target_train)\n",
    "    learning_time = time.time() - start_time\n",
    "    predictions = model.predict(features_valid)\n",
    "    prediction_time = time.time() - learning_time - start_time\n",
    "    predictions = pd.Series(predictions).astype(bool)\n",
    "    f1 = f1_score(target_valid, predictions)\n",
    "    return [f1, learning_time, prediction_time]\n",
    "\n",
    "# We are using practically default parameters in our models:\n",
    "df_results = df_results.assign(LogisticRegression = modelling(LogisticRegression(random_state = 22, class_weight='balanced'), features_train_nb, target_train_nb, features_valid_nb, target_valid_nb))\n",
    "\n",
    "df_results = df_results.assign(RandomForestClassifier = modelling(RandomForestClassifier(random_state = 22, class_weight='balanced'), features_train_nb, target_train_nb, features_valid_nb, target_valid_nb))\n",
    "\n",
    "df_results = df_results.assign(CatboostClassifier = modelling(CatBoostClassifier(random_state = 22, scale_pos_weight = scale_pos_weight_rounded, cat_features=cat_features, silent=True, allow_writing_files=False), features_train_cat, target_train_cat, features_valid_cat, target_valid_cat))\n",
    "\n",
    "display(df_results)"
   ],
   "metadata": {
    "collapsed": false
   }
  },
  {
   "cell_type": "markdown",
   "source": [
    "Our best model is immediately proven to be `LogisticRegression`. It is also by far the fastest model. We could potentially engage in hyperparameter tuning in order to improve the performance of the other models; however, their current F1 score is significantly lower, while their learning time is higher. The difference in performance is so noticeable that it is unlikely that we will be able to increase the F1 score in order to match the outcome of `LogisticRegression`.\n",
    "\n",
    "Since the `LogisticRegression` method does not include many hyperparameter to tune, we can skip that aspect of our ML analytics. Based on this reasoning, we have now selected the `LogisticRegression` model as our final one.\n",
    "\n",
    "Therefore, we can now test our model on the testing dataset and compare its performance with a `DummyClassifier`.\n",
    "<br>\n",
    "### Test-dataset Performance and Dummy Comparison"
   ],
   "metadata": {
    "collapsed": false
   }
  },
  {
   "cell_type": "code",
   "execution_count": 9,
   "outputs": [
    {
     "name": "stderr",
     "output_type": "stream",
     "text": [
      "/Users/ana/opt/miniconda3/lib/python3.10/site-packages/sklearn/linear_model/_logistic.py:458: ConvergenceWarning: lbfgs failed to converge (status=1):\n",
      "STOP: TOTAL NO. of ITERATIONS REACHED LIMIT.\n",
      "\n",
      "Increase the number of iterations (max_iter) or scale the data as shown in:\n",
      "    https://scikit-learn.org/stable/modules/preprocessing.html\n",
      "Please also refer to the documentation for alternative solver options:\n",
      "    https://scikit-learn.org/stable/modules/linear_model.html#logistic-regression\n",
      "  n_iter_i = _check_optimize_result(\n"
     ]
    },
    {
     "data": {
      "text/plain": "                 LogisticRegression_final  DummyClassifier\nf1_score                          0.94180          0.43137\nlearning_time                     0.14527          0.00111\nprediction_time                   0.00586          0.00088",
      "text/html": "<div>\n<style scoped>\n    .dataframe tbody tr th:only-of-type {\n        vertical-align: middle;\n    }\n\n    .dataframe tbody tr th {\n        vertical-align: top;\n    }\n\n    .dataframe thead th {\n        text-align: right;\n    }\n</style>\n<table border=\"1\" class=\"dataframe\">\n  <thead>\n    <tr style=\"text-align: right;\">\n      <th></th>\n      <th>LogisticRegression_final</th>\n      <th>DummyClassifier</th>\n    </tr>\n  </thead>\n  <tbody>\n    <tr>\n      <th>f1_score</th>\n      <td>0.94180</td>\n      <td>0.43137</td>\n    </tr>\n    <tr>\n      <th>learning_time</th>\n      <td>0.14527</td>\n      <td>0.00111</td>\n    </tr>\n    <tr>\n      <th>prediction_time</th>\n      <td>0.00586</td>\n      <td>0.00088</td>\n    </tr>\n  </tbody>\n</table>\n</div>"
     },
     "execution_count": 9,
     "metadata": {},
     "output_type": "execute_result"
    }
   ],
   "source": [
    "df_results_test = pd.DataFrame(index = ['f1_score', 'learning_time', 'prediction_time'])\n",
    "\n",
    "df_results_test = df_results_test.assign(LogisticRegression_final = modelling(LogisticRegression(random_state = 22, class_weight='balanced'), features_train_nb, target_train_nb, features_test_nb, target_test_nb))\n",
    "\n",
    "df_results_test = df_results_test.assign(DummyClassifier = modelling(DummyClassifier(random_state=22, strategy='uniform'), features_train_nb, target_train_nb, features_test_nb, target_test_nb))\n",
    "\n",
    "df_results_test"
   ],
   "metadata": {
    "collapsed": false
   }
  },
  {
   "cell_type": "markdown",
   "source": [
    "Since our `LogisticRegression` model performs far better that the `DummyClassifier`, it has passed the necessary sanity check. We can now select our model for further application without our CRM.\n",
    "<br>\n",
    "## Project Outcomes Discussion\n",
    "\n",
    "We have now completed the second use-case for our CRM project. We have already discussed the drawbacks of our dataset in the previous use-case; here, we can mention that we could apply a wider model selection to our data in order to verify that `LogisticRegression` is indeed the most suitable model for this use-case with the best and quickest results.\n",
    "\n",
    "Having selected our model, we can now pre-train once more and then save both the model and our `StandardScaler` in order to implement these in our CRM web-app."
   ],
   "metadata": {
    "collapsed": false
   }
  },
  {
   "cell_type": "code",
   "execution_count": 10,
   "outputs": [],
   "source": [
    "import joblib # Importing joblib for dumping our scaler"
   ],
   "metadata": {
    "collapsed": false
   }
  },
  {
   "cell_type": "code",
   "execution_count": 12,
   "outputs": [
    {
     "name": "stdout",
     "output_type": "stream",
     "text": [
      "Model trained and saved successfully.\n"
     ]
    },
    {
     "name": "stderr",
     "output_type": "stream",
     "text": [
      "/Users/ana/opt/miniconda3/lib/python3.10/site-packages/sklearn/linear_model/_logistic.py:458: ConvergenceWarning: lbfgs failed to converge (status=1):\n",
      "STOP: TOTAL NO. of ITERATIONS REACHED LIMIT.\n",
      "\n",
      "Increase the number of iterations (max_iter) or scale the data as shown in:\n",
      "    https://scikit-learn.org/stable/modules/preprocessing.html\n",
      "Please also refer to the documentation for alternative solver options:\n",
      "    https://scikit-learn.org/stable/modules/linear_model.html#logistic-regression\n",
      "  n_iter_i = _check_optimize_result(\n"
     ]
    }
   ],
   "source": [
    "df_nb = pd.get_dummies(cleaned_data.drop('device_protection_plan', axis=1), drop_first=True)\n",
    "\n",
    "features_nb = df_nb\n",
    "target_nb = cleaned_data['device_protection_plan']\n",
    "\n",
    "features_train, features_test_and_valid, target_train, target_test_and_valid = train_test_split(features_nb, target_nb,\n",
    "                                                                                                    test_size=0.3,\n",
    "                                                                                                    random_state=22)\n",
    "\n",
    "features_valid, features_test, target_valid, target_test = train_test_split(features_test_and_valid,\n",
    "                                                                                target_test_and_valid, test_size=0.5,\n",
    "                                                                                random_state=22)\n",
    "\n",
    "features_train, target_train = shuffle(features_train, target_train, random_state=22)\n",
    "\n",
    "numeric = ['satisfaction_score', 'cltv', 'number_of_referrals', 'tenure_in_months',\n",
    "           'avg_monthly_long_distance_charges', 'avg_monthly_gb_download', 'monthly_charge',\n",
    "           'total_charges', 'total_refunds', 'total_extra_data_charges', 'total_long_distance_charges',\n",
    "           'population', 'latitude', 'longitude', 'age', 'number_of_dependents']\n",
    "\n",
    "scaler = StandardScaler()\n",
    "scaler.fit(features_train[numeric])\n",
    "features_train[numeric] = scaler.transform(features_train[numeric])\n",
    "\n",
    "model = LogisticRegression(random_state = 22, class_weight='balanced')\n",
    "\n",
    "model.fit(features_train, target_train)\n",
    "\n",
    "joblib.dump(scaler, 'upsell_scaler.bin', compress=True)\n",
    "\n",
    "filename = 'upsell_model.sav'\n",
    "joblib.dump(model, filename)\n",
    "\n",
    "print(\"Model trained and saved successfully.\")"
   ],
   "metadata": {
    "collapsed": false
   }
  },
  {
   "cell_type": "code",
   "execution_count": 13,
   "outputs": [
    {
     "name": "stdout",
     "output_type": "stream",
     "text": [
      "<class 'pandas.core.frame.DataFrame'>\n",
      "Int64Index: 4575 entries, 2320 to 2173\n",
      "Data columns (total 40 columns):\n",
      " #   Column                             Non-Null Count  Dtype  \n",
      "---  ------                             --------------  -----  \n",
      " 0   satisfaction_score                 4575 non-null   float64\n",
      " 1   cltv                               4575 non-null   float64\n",
      " 2   number_of_referrals                4575 non-null   float64\n",
      " 3   tenure_in_months                   4575 non-null   float64\n",
      " 4   phone_service                      4575 non-null   bool   \n",
      " 5   avg_monthly_long_distance_charges  4575 non-null   float64\n",
      " 6   multiple_lines                     4575 non-null   bool   \n",
      " 7   avg_monthly_gb_download            4575 non-null   float64\n",
      " 8   online_security                    4575 non-null   bool   \n",
      " 9   online_backup                      4575 non-null   bool   \n",
      " 10  premium_tech_support               4575 non-null   bool   \n",
      " 11  streaming_tv                       4575 non-null   bool   \n",
      " 12  streaming_movies                   4575 non-null   bool   \n",
      " 13  streaming_music                    4575 non-null   bool   \n",
      " 14  unlimited_data                     4575 non-null   bool   \n",
      " 15  paperless_billing                  4575 non-null   bool   \n",
      " 16  monthly_charge                     4575 non-null   float64\n",
      " 17  total_charges                      4575 non-null   float64\n",
      " 18  total_refunds                      4575 non-null   float64\n",
      " 19  total_extra_data_charges           4575 non-null   float64\n",
      " 20  total_long_distance_charges        4575 non-null   float64\n",
      " 21  population                         4575 non-null   float64\n",
      " 22  latitude                           4575 non-null   float64\n",
      " 23  longitude                          4575 non-null   float64\n",
      " 24  age                                4575 non-null   float64\n",
      " 25  married                            4575 non-null   bool   \n",
      " 26  number_of_dependents               4575 non-null   float64\n",
      " 27  offer_Offer A                      4575 non-null   uint8  \n",
      " 28  offer_Offer B                      4575 non-null   uint8  \n",
      " 29  offer_Offer C                      4575 non-null   uint8  \n",
      " 30  offer_Offer D                      4575 non-null   uint8  \n",
      " 31  offer_Offer E                      4575 non-null   uint8  \n",
      " 32  internet_type_DSL                  4575 non-null   uint8  \n",
      " 33  internet_type_Fiber Optic          4575 non-null   uint8  \n",
      " 34  internet_type_None                 4575 non-null   uint8  \n",
      " 35  contract_One Year                  4575 non-null   uint8  \n",
      " 36  contract_Two Year                  4575 non-null   uint8  \n",
      " 37  payment_method_Credit Card         4575 non-null   uint8  \n",
      " 38  payment_method_Mailed Check        4575 non-null   uint8  \n",
      " 39  gender_Male                        4575 non-null   uint8  \n",
      "dtypes: bool(11), float64(16), uint8(13)\n",
      "memory usage: 714.8 KB\n"
     ]
    },
    {
     "data": {
      "text/plain": "None"
     },
     "metadata": {},
     "output_type": "display_data"
    },
    {
     "data": {
      "text/plain": "Index(['satisfaction_score', 'cltv', 'number_of_referrals', 'tenure_in_months',\n       'phone_service', 'avg_monthly_long_distance_charges', 'multiple_lines',\n       'avg_monthly_gb_download', 'online_security', 'online_backup',\n       'premium_tech_support', 'streaming_tv', 'streaming_movies',\n       'streaming_music', 'unlimited_data', 'paperless_billing',\n       'monthly_charge', 'total_charges', 'total_refunds',\n       'total_extra_data_charges', 'total_long_distance_charges', 'population',\n       'latitude', 'longitude', 'age', 'married', 'number_of_dependents',\n       'offer_Offer A', 'offer_Offer B', 'offer_Offer C', 'offer_Offer D',\n       'offer_Offer E', 'internet_type_DSL', 'internet_type_Fiber Optic',\n       'internet_type_None', 'contract_One Year', 'contract_Two Year',\n       'payment_method_Credit Card', 'payment_method_Mailed Check',\n       'gender_Male'],\n      dtype='object')"
     },
     "metadata": {},
     "output_type": "display_data"
    },
    {
     "data": {
      "text/plain": "      satisfaction_score     cltv  number_of_referrals  tenure_in_months  \\\n2320            -1.81410 -0.01287             -0.66779          -1.31684   \n4067            -0.16835  0.89177             -0.00672           1.56026   \n369             -1.81410 -1.15750             -0.66779          -1.40024   \n5263            -0.16835 -0.64689             -0.66779          -0.44121   \n2588            -0.16835  0.18287              0.32382           1.51856   \n...                  ...      ...                  ...               ...   \n5875            -0.16835 -0.00010              0.98489           1.56026   \n2333            -0.16835 -0.45796             -0.33725          -1.23345   \n1265            -0.16835  0.79986             -0.66779          -1.40024   \n1773            -1.81410 -0.26563             -0.33725          -0.14933   \n2173            -0.16835  0.17521             -0.33725          -1.40024   \n\n      phone_service  avg_monthly_long_distance_charges  multiple_lines  \\\n2320           True                            0.18871           False   \n4067           True                            0.69627            True   \n369            True                            0.45860           False   \n5263           True                            0.80191           False   \n2588           True                            0.58098            True   \n...             ...                                ...             ...   \n5875           True                            0.83347            True   \n2333           True                           -0.52884            True   \n1265           True                            1.45247           False   \n1773           True                           -1.35202            True   \n2173           True                           -1.00613           False   \n\n      avg_monthly_gb_download  online_security  online_backup  ...  \\\n2320                 -0.25060             True          False  ...   \n4067                 -1.03111            False          False  ...   \n369                   0.43235            False          False  ...   \n5263                 -0.88476             True          False  ...   \n2588                 -1.03111            False          False  ...   \n...                       ...              ...            ...  ...   \n5875                 -0.34816             True          False  ...   \n2333                 -0.83598            False          False  ...   \n1265                  0.33479            False          False  ...   \n1773                 -0.20181            False           True  ...   \n2173                 -1.03111            False          False  ...   \n\n      offer_Offer D  offer_Offer E  internet_type_DSL  \\\n2320              0              1                  0   \n4067              0              0                  0   \n369               0              1                  0   \n5263              0              0                  0   \n2588              0              0                  0   \n...             ...            ...                ...   \n5875              0              0                  0   \n2333              0              0                  1   \n1265              0              1                  0   \n1773              0              0                  0   \n2173              0              0                  0   \n\n      internet_type_Fiber Optic  internet_type_None  contract_One Year  \\\n2320                          0                   0                  0   \n4067                          0                   1                  0   \n369                           1                   0                  0   \n5263                          1                   0                  0   \n2588                          0                   1                  0   \n...                         ...                 ...                ...   \n5875                          1                   0                  0   \n2333                          0                   0                  0   \n1265                          1                   0                  0   \n1773                          1                   0                  0   \n2173                          0                   1                  0   \n\n      contract_Two Year  payment_method_Credit Card  \\\n2320                  0                           0   \n4067                  1                           1   \n369                   0                           0   \n5263                  0                           0   \n2588                  1                           0   \n...                 ...                         ...   \n5875                  1                           0   \n2333                  0                           0   \n1265                  0                           0   \n1773                  0                           0   \n2173                  0                           0   \n\n      payment_method_Mailed Check  gender_Male  \n2320                            1            0  \n4067                            0            1  \n369                             0            0  \n5263                            0            0  \n2588                            0            0  \n...                           ...          ...  \n5875                            0            1  \n2333                            0            0  \n1265                            0            1  \n1773                            0            1  \n2173                            0            0  \n\n[4575 rows x 40 columns]",
      "text/html": "<div>\n<style scoped>\n    .dataframe tbody tr th:only-of-type {\n        vertical-align: middle;\n    }\n\n    .dataframe tbody tr th {\n        vertical-align: top;\n    }\n\n    .dataframe thead th {\n        text-align: right;\n    }\n</style>\n<table border=\"1\" class=\"dataframe\">\n  <thead>\n    <tr style=\"text-align: right;\">\n      <th></th>\n      <th>satisfaction_score</th>\n      <th>cltv</th>\n      <th>number_of_referrals</th>\n      <th>tenure_in_months</th>\n      <th>phone_service</th>\n      <th>avg_monthly_long_distance_charges</th>\n      <th>multiple_lines</th>\n      <th>avg_monthly_gb_download</th>\n      <th>online_security</th>\n      <th>online_backup</th>\n      <th>...</th>\n      <th>offer_Offer D</th>\n      <th>offer_Offer E</th>\n      <th>internet_type_DSL</th>\n      <th>internet_type_Fiber Optic</th>\n      <th>internet_type_None</th>\n      <th>contract_One Year</th>\n      <th>contract_Two Year</th>\n      <th>payment_method_Credit Card</th>\n      <th>payment_method_Mailed Check</th>\n      <th>gender_Male</th>\n    </tr>\n  </thead>\n  <tbody>\n    <tr>\n      <th>2320</th>\n      <td>-1.81410</td>\n      <td>-0.01287</td>\n      <td>-0.66779</td>\n      <td>-1.31684</td>\n      <td>True</td>\n      <td>0.18871</td>\n      <td>False</td>\n      <td>-0.25060</td>\n      <td>True</td>\n      <td>False</td>\n      <td>...</td>\n      <td>0</td>\n      <td>1</td>\n      <td>0</td>\n      <td>0</td>\n      <td>0</td>\n      <td>0</td>\n      <td>0</td>\n      <td>0</td>\n      <td>1</td>\n      <td>0</td>\n    </tr>\n    <tr>\n      <th>4067</th>\n      <td>-0.16835</td>\n      <td>0.89177</td>\n      <td>-0.00672</td>\n      <td>1.56026</td>\n      <td>True</td>\n      <td>0.69627</td>\n      <td>True</td>\n      <td>-1.03111</td>\n      <td>False</td>\n      <td>False</td>\n      <td>...</td>\n      <td>0</td>\n      <td>0</td>\n      <td>0</td>\n      <td>0</td>\n      <td>1</td>\n      <td>0</td>\n      <td>1</td>\n      <td>1</td>\n      <td>0</td>\n      <td>1</td>\n    </tr>\n    <tr>\n      <th>369</th>\n      <td>-1.81410</td>\n      <td>-1.15750</td>\n      <td>-0.66779</td>\n      <td>-1.40024</td>\n      <td>True</td>\n      <td>0.45860</td>\n      <td>False</td>\n      <td>0.43235</td>\n      <td>False</td>\n      <td>False</td>\n      <td>...</td>\n      <td>0</td>\n      <td>1</td>\n      <td>0</td>\n      <td>1</td>\n      <td>0</td>\n      <td>0</td>\n      <td>0</td>\n      <td>0</td>\n      <td>0</td>\n      <td>0</td>\n    </tr>\n    <tr>\n      <th>5263</th>\n      <td>-0.16835</td>\n      <td>-0.64689</td>\n      <td>-0.66779</td>\n      <td>-0.44121</td>\n      <td>True</td>\n      <td>0.80191</td>\n      <td>False</td>\n      <td>-0.88476</td>\n      <td>True</td>\n      <td>False</td>\n      <td>...</td>\n      <td>0</td>\n      <td>0</td>\n      <td>0</td>\n      <td>1</td>\n      <td>0</td>\n      <td>0</td>\n      <td>0</td>\n      <td>0</td>\n      <td>0</td>\n      <td>0</td>\n    </tr>\n    <tr>\n      <th>2588</th>\n      <td>-0.16835</td>\n      <td>0.18287</td>\n      <td>0.32382</td>\n      <td>1.51856</td>\n      <td>True</td>\n      <td>0.58098</td>\n      <td>True</td>\n      <td>-1.03111</td>\n      <td>False</td>\n      <td>False</td>\n      <td>...</td>\n      <td>0</td>\n      <td>0</td>\n      <td>0</td>\n      <td>0</td>\n      <td>1</td>\n      <td>0</td>\n      <td>1</td>\n      <td>0</td>\n      <td>0</td>\n      <td>0</td>\n    </tr>\n    <tr>\n      <th>...</th>\n      <td>...</td>\n      <td>...</td>\n      <td>...</td>\n      <td>...</td>\n      <td>...</td>\n      <td>...</td>\n      <td>...</td>\n      <td>...</td>\n      <td>...</td>\n      <td>...</td>\n      <td>...</td>\n      <td>...</td>\n      <td>...</td>\n      <td>...</td>\n      <td>...</td>\n      <td>...</td>\n      <td>...</td>\n      <td>...</td>\n      <td>...</td>\n      <td>...</td>\n      <td>...</td>\n    </tr>\n    <tr>\n      <th>5875</th>\n      <td>-0.16835</td>\n      <td>-0.00010</td>\n      <td>0.98489</td>\n      <td>1.56026</td>\n      <td>True</td>\n      <td>0.83347</td>\n      <td>True</td>\n      <td>-0.34816</td>\n      <td>True</td>\n      <td>False</td>\n      <td>...</td>\n      <td>0</td>\n      <td>0</td>\n      <td>0</td>\n      <td>1</td>\n      <td>0</td>\n      <td>0</td>\n      <td>1</td>\n      <td>0</td>\n      <td>0</td>\n      <td>1</td>\n    </tr>\n    <tr>\n      <th>2333</th>\n      <td>-0.16835</td>\n      <td>-0.45796</td>\n      <td>-0.33725</td>\n      <td>-1.23345</td>\n      <td>True</td>\n      <td>-0.52884</td>\n      <td>True</td>\n      <td>-0.83598</td>\n      <td>False</td>\n      <td>False</td>\n      <td>...</td>\n      <td>0</td>\n      <td>0</td>\n      <td>1</td>\n      <td>0</td>\n      <td>0</td>\n      <td>0</td>\n      <td>0</td>\n      <td>0</td>\n      <td>0</td>\n      <td>0</td>\n    </tr>\n    <tr>\n      <th>1265</th>\n      <td>-0.16835</td>\n      <td>0.79986</td>\n      <td>-0.66779</td>\n      <td>-1.40024</td>\n      <td>True</td>\n      <td>1.45247</td>\n      <td>False</td>\n      <td>0.33479</td>\n      <td>False</td>\n      <td>False</td>\n      <td>...</td>\n      <td>0</td>\n      <td>1</td>\n      <td>0</td>\n      <td>1</td>\n      <td>0</td>\n      <td>0</td>\n      <td>0</td>\n      <td>0</td>\n      <td>0</td>\n      <td>1</td>\n    </tr>\n    <tr>\n      <th>1773</th>\n      <td>-1.81410</td>\n      <td>-0.26563</td>\n      <td>-0.33725</td>\n      <td>-0.14933</td>\n      <td>True</td>\n      <td>-1.35202</td>\n      <td>True</td>\n      <td>-0.20181</td>\n      <td>False</td>\n      <td>True</td>\n      <td>...</td>\n      <td>0</td>\n      <td>0</td>\n      <td>0</td>\n      <td>1</td>\n      <td>0</td>\n      <td>0</td>\n      <td>0</td>\n      <td>0</td>\n      <td>0</td>\n      <td>1</td>\n    </tr>\n    <tr>\n      <th>2173</th>\n      <td>-0.16835</td>\n      <td>0.17521</td>\n      <td>-0.33725</td>\n      <td>-1.40024</td>\n      <td>True</td>\n      <td>-1.00613</td>\n      <td>False</td>\n      <td>-1.03111</td>\n      <td>False</td>\n      <td>False</td>\n      <td>...</td>\n      <td>0</td>\n      <td>0</td>\n      <td>0</td>\n      <td>0</td>\n      <td>1</td>\n      <td>0</td>\n      <td>0</td>\n      <td>0</td>\n      <td>0</td>\n      <td>0</td>\n    </tr>\n  </tbody>\n</table>\n<p>4575 rows × 40 columns</p>\n</div>"
     },
     "metadata": {},
     "output_type": "display_data"
    }
   ],
   "source": [
    "display(features_train.info(), features_train.columns, features_train)"
   ],
   "metadata": {
    "collapsed": false
   }
  },
  {
   "cell_type": "code",
   "execution_count": null,
   "outputs": [],
   "source": [],
   "metadata": {
    "collapsed": false
   }
  }
 ],
 "metadata": {
  "kernelspec": {
   "display_name": "Python 3",
   "language": "python",
   "name": "python3"
  },
  "language_info": {
   "codemirror_mode": {
    "name": "ipython",
    "version": 2
   },
   "file_extension": ".py",
   "mimetype": "text/x-python",
   "name": "python",
   "nbconvert_exporter": "python",
   "pygments_lexer": "ipython2",
   "version": "2.7.6"
  }
 },
 "nbformat": 4,
 "nbformat_minor": 0
}
